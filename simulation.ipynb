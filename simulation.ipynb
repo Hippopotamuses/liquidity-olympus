{
  "cells": [
    {
      "cell_type": "markdown",
      "metadata": {},
      "source": [
        "## __RANGE-BOUND STABILITY MODEL__"
      ]
    },
    {
      "cell_type": "code",
      "execution_count": null,
      "metadata": {
        "id": "Bw4vaq8NZUMg"
      },
      "outputs": [],
      "source": [
        "import pandas as pd\n",
        "import numpy as np\n",
        "import random\n",
        "\n",
        "from plotly.subplots import make_subplots\n",
        "import plotly.express as px\n",
        "import plotly.graph_objects as go\n",
        "pd.options.plotting.backend = \"plotly\"\n",
        "\n",
        "from src.utils import ModelParams, Day, short_sin, short_cos, long_sin, long_cos\n",
        "from src.init_functions import initial_params"
      ]
    },
    {
      "cell_type": "markdown",
      "metadata": {
        "id": "VS6dSZGtZUMo"
      },
      "source": [
        "### __SET SCENARIO PARAMETERS__"
      ]
    },
    {
      "cell_type": "code",
      "execution_count": null,
      "metadata": {
        "id": "xkIg-YQDZUMq"
      },
      "outputs": [],
      "source": [
        "# Simulate scenario with RBS market operations\n",
        "\n",
        "netflow_type, historical_net_flows, price, target, supply, reserves, liq_usd = initial_params(\n",
        "    netflow_type = 'random' # Determines the netflow types. Either 'historical', 'enforced', 'random', or 'cycles' (sin/cos waves)\n",
        "    #,initial_date = '2021/12/18' # Determines the initial date to account for 'historical' netflows and initial params. (example: '2021/12/18')\n",
        "    ,initial_supply = 25000000\n",
        "    ,initial_reserves = 250000000\n",
        "    ,initial_liq_usd = 25000000\n",
        "    ,initial_price = 14.12\n",
        "    ,initial_target = 14.17\n",
        ")\n",
        "\n",
        "params = ModelParams(seed = 33 # Seed number to control simulation randomness\n",
        "    ,horizon = 365  # Simulation timespan\n",
        "    ,short_cycle = 30  # Short market cycle duration (only relevant for netflow_type == cycles)\n",
        "    ,cycle_reweights = 1  # Reweights per short market cycle (Deprecated)\n",
        "    ,long_cycle = 730  # Long market cycle duration (only relevant for netflow_type == cycles)\n",
        "    ,long_sin_offset = 2  # Demand function offset (only relevant for netflow_type == cycles)\n",
        "    ,long_cos_offset = 0  # Supply function offset (only relevant for netflow_type == cycles)\n",
        "    ,supply_amplitude = 0.8  # Supply function amplitude (only relevant for netflow_type == cycles)\n",
        "    ,with_reinstate_window = 'Yes'\n",
        "    ,with_dynamic_reward_rate = 'No'\n",
        "\n",
        "    # Initial Parameters\n",
        "    ,initial_supply = supply, initial_reserves = reserves, initial_liq_usd = liq_usd, initial_price = price, initial_target = target, target_price_function = 'price_moving_avg', netflow_type = netflow_type\n",
        "\n",
        "    ,demand_factor = 0.008 # % of OHM supply expected to drive market demand\n",
        "    ,supply_factor = -0.008  # % of OHM supply expected to drive market sell preasure\n",
        "    ,arb_factor = 0  # Initial arb factor\n",
        "    ,release_capture = 0  # % of reweight taken immediately by the market (Deprecated)\n",
        "\n",
        "    ,max_liq_ratio = 0.2  # LiquidityUSD : reservesUSD ratio --> 1:1 = 0.5\n",
        "    ,min_premium_target = 0  # Minimum premium for mint&sync --> to keep adding liquidity as supply grows \n",
        "    ,max_outflow_rate = 0.03  # Max % of reservesUSD that can be released on a single day\n",
        "    ,reserve_change_speed = 1  # Directly related to the speed at which reserves are released/captured by the treasury. The higher the slower\n",
        "\n",
        "    ,ask_factor = 0.075  # % of floating supply that the treasury can deploy when price is trading above the upper target\n",
        "    ,bid_factor = 0.075  # % of the reserves that the treasury can deploy when price is trading below the lower target\n",
        "    ,cushion_factor = 0.3  # The percentage of a bid or ask to offer as a cushion\n",
        "    ,target_ma = 30  # Length of the price target moving average (in days)\n",
        "    ,lower_wall = 0.28  # Determines lower wall price target at x% below the target price\n",
        "    ,upper_wall = 0.28  # Determines upper wall price target at x% above the target price\n",
        "    ,lower_cushion = 0.15  # Determines lower cushion price target at x% below the target price\n",
        "    ,upper_cushion = 0.15  # Determines upper cushion price target at x% above the target price\n",
        "    ,reinstate_window = 7  # The window of time (in days) to reinstate a bid or ask\n",
        "    ,min_counter_reinstate = 5  # Number of days within the reinstate window that conditions are true to reinstate a bid or ask\n",
        ")\n",
        "\n",
        "lags = {\n",
        "    'price': (0, {1: params.initial_price}), 'target': (0, {1: params.initial_target}), 'avg': (0, {1: params.initial_target}), 'gohm price variation': (0, {1: 0})\n",
        "}\n",
        "\n",
        "arbs = {}\n",
        "rbs_netflows = [0]\n",
        "\n",
        "random.seed(params.seed)\n",
        "\n",
        "if historical_net_flows is None:\n",
        "    simulation = {'day1': Day(params=params, prev_arbs=arbs, prev_lags=lags, historical_net_flows=None)}\n",
        "    for i in range (2, params.horizon):\n",
        "        simulation[f'day{i}'] = Day(params=params, prev_arbs=arbs, prev_lags=lags, prev_day=simulation[f'day{i-1}'], historical_net_flows=None)\n",
        "        rbs_netflows.append(simulation[f'day{i}'].net_flow)\n",
        "else:\n",
        "    simulation = {'day1': Day(params=params, prev_arbs=arbs, prev_lags=lags, historical_net_flows=historical_net_flows[0])}\n",
        "    for i in range (2, min(params.horizon, len(historical_net_flows) - 1)):\n",
        "        simulation[f'day{i}'] = Day(params=params, prev_arbs=arbs, prev_lags=lags, prev_day=simulation[f'day{i-1}'], historical_net_flows=historical_net_flows[i-1])"
      ]
    },
    {
      "cell_type": "code",
      "execution_count": null,
      "metadata": {},
      "outputs": [],
      "source": [
        "# Simulate same scenario (same netflows) WITHOUT RBS market operations\n",
        "params_without = ModelParams(seed = params.seed\n",
        "    ,horizon = params.horizon\n",
        "    ,short_cycle = params.short_cycle\n",
        "    ,cycle_reweights = params.cycle_reweights\n",
        "    ,long_cycle = params.long_cycle\n",
        "    ,long_sin_offset = params.long_sin_offset\n",
        "    ,long_cos_offset = params.long_cos_offset\n",
        "    ,supply_amplitude = params.supply_amplitude\n",
        "    ,with_reinstate_window = params.with_reinstate_window\n",
        "    ,with_dynamic_reward_rate = params.with_dynamic_reward_rate\n",
        "    \n",
        "    # Initial Parameters\n",
        "    ,initial_supply = params.initial_supply, initial_reserves = params.initial_reserves, initial_liq_usd = params.initial_liq_usd, initial_price = params.initial_price, initial_target = params.initial_target, target_price_function = params.target_price_function\n",
        "    ,netflow_type = 'enforced'\n",
        "\n",
        "    ,demand_factor = params.demand_factor\n",
        "    ,supply_factor = params.supply_factor\n",
        "    ,arb_factor = params.arb_factor\n",
        "    ,release_capture = params.release_capture\n",
        "\n",
        "    ,max_liq_ratio = params.max_liq_ratio\n",
        "    ,min_premium_target = params.min_premium_target\n",
        "    ,max_outflow_rate = params.max_outflow_rate  # Set to 0 to do not rebalance, set to params.max_outflow_rate to mimic RBS\n",
        "    ,reserve_change_speed=params.reserve_change_speed\n",
        "\n",
        "    ,ask_factor = 0\n",
        "    ,bid_factor = 0\n",
        "    ,cushion_factor = 0\n",
        "    ,target_ma = 30\n",
        "    ,lower_wall = 0\n",
        "    ,upper_wall = 0\n",
        "    ,lower_cushion = 0\n",
        "    ,upper_cushion = 0\n",
        "    ,reinstate_window = 0\n",
        "    ,min_counter_reinstate = 0\n",
        ")\n",
        "\n",
        "lags_without = {\n",
        "    'price': (0, {1: params_without.initial_price}), 'target': (0, {1: params_without.initial_target}), 'avg': (0, {1: params_without.initial_target}), 'gohm price variation': (0, {1: 0})\n",
        "}\n",
        "\n",
        "arbs_without = {}\n",
        "\n",
        "simulation_without = {'day1': Day(params=params_without, prev_arbs=arbs, prev_lags=lags_without)}\n",
        "\n",
        "if historical_net_flows is None:\n",
        "    simulation_without = {'day1': Day(params=params_without, prev_arbs=arbs, prev_lags=lags_without, historical_net_flows=rbs_netflows[0])}\n",
        "    for i in range (2, params.horizon):\n",
        "        simulation_without[f'day{i}'] = Day(params=params_without, prev_arbs=arbs_without, prev_lags=lags_without, prev_day=simulation_without[f'day{i-1}'], historical_net_flows=rbs_netflows[i-1])\n",
        "else:\n",
        "    simulation_without = {'day1': Day(params=params_without, prev_arbs=arbs, prev_lags=lags_without, historical_net_flows=historical_net_flows[0])}\n",
        "    for i in range (2, min(params.horizon, len(historical_net_flows) - 1)):\n",
        "        simulation_without[f'day{i}'] = Day(params=params_without, prev_arbs=arbs_without, prev_lags=lags_without, prev_day=simulation_without[f'day{i-1}'], historical_net_flows=historical_net_flows[i-1])"
      ]
    },
    {
      "cell_type": "markdown",
      "metadata": {
        "id": "vj5S_rtFZUMr"
      },
      "source": [
        "### __PLOT RESULTS__"
      ]
    },
    {
      "cell_type": "code",
      "execution_count": null,
      "metadata": {
        "id": "eY055aDLZUMs"
      },
      "outputs": [],
      "source": [
        "# Protocol variables\n",
        "df1 = pd.DataFrame(columns = ['Type', 'NetFlow', 'Price', 'RealTarget', 'LowerTargetCushion', 'UpperTargetCushion', 'LowerTargetWall', 'UpperTargetWall', 'LiqUSD', 'LiqOHM', 'poolK', 'Reserves', 'ReserveChange', 'ReservesIN', 'ReservesOUT', 'TradedOHM', 'Treasury', 'Supply', 'MCap', 'FloatingSupply', 'FloatingMCap', 'LiqRatio (Liq/Treasury)', 'LiqRatio (Liq/Reserves)', 'ReserveRatio', 'LiqFloatingMCRatio', 'FloatingMCTreasuryPremium', 'CumMintedOHM', 'CumBurntOHM']) \n",
        "for day, data in simulation.items():\n",
        "    df1.loc[day] = ['Mint&Sync + TreasuryRebalance + MarketOps', float(data.net_flow), float(data.price), float(data.ma_target), float(data.lower_target_cushion), float(data.upper_target_cushion), float(data.lower_target_wall), float(data.upper_target_wall), float(data.liq_usd), float(data.liq_ohm), float(data.k), float(data.reserves), float(100*data.reserves/data.prev_reserves), float(data.reserves_in), float(data.reserves_out), float(data.ohm_traded), float(data.treasury), float(data.supply), float(data.mcap), float(data.floating_supply), float(data.floating_mcap), float(data.liq_ratio), float(data.liq_usd/data.reserves), float(data.reserves_ratio), float(data.liq_fmcap_ratio), float(data.fmcap_treasury_ratio), float(data.cum_ohm_minted), float(data.cum_ohm_burnt)]\n",
        "\n",
        "\n",
        "df2 = pd.DataFrame(columns = ['Type', 'NetFlow', 'Price', 'RealTarget', 'LowerTargetCushion', 'UpperTargetCushion', 'LowerTargetWall', 'UpperTargetWall', 'LiqUSD', 'LiqOHM', 'poolK', 'Reserves', 'ReserveChange', 'ReservesIN', 'ReservesOUT', 'TradedOHM', 'Treasury', 'Supply', 'MCap', 'FloatingSupply', 'FloatingMCap', 'LiqRatio (Liq/Treasury)', 'LiqRatio (Liq/Reserves)', 'ReserveRatio', 'LiqFloatingMCRatio', 'FloatingMCTreasuryPremium', 'CumMintedOHM', 'CumBurntOHM']) \n",
        "for day, data in simulation_without.items():\n",
        "        df2.loc[day] = ['Mint&Sync + TreasuryRebalance (withoutMarketOps)', float(data.net_flow), float(data.price), float(data.ma_target), np.nan, np.nan, np.nan, np.nan, float(data.liq_usd), float(data.liq_ohm), float(data.k), float(data.reserves), float(100*data.reserves/data.prev_reserves), float(data.reserves_in), float(data.reserves_out), float(data.ohm_traded), float(data.treasury), float(data.supply), float(data.mcap), float(data.floating_supply), float(data.floating_mcap), float(data.liq_ratio), float(data.liq_usd/data.reserves), float(data.reserves_ratio), float(data.liq_fmcap_ratio), float(data.fmcap_treasury_ratio), float(data.cum_ohm_minted), float(data.cum_ohm_burnt)]\n",
        "df=pd.concat([df1, df2])\n",
        "\n",
        "# Guidance variables\n",
        "guidance_df = pd.DataFrame(columns = ['BidCapacity', 'AskCapacity', 'BidCapacityCushion', 'AskCapacityCushion', 'BidCapacityTargetCushion', 'AskCapacityTargetCushion', 'BidCapacityTarget', 'AskCapacityTarget', 'TradedOHM', 'ReservesOUT', 'AskCount', 'BidCount']) \n",
        "for day, data in simulation.items():\n",
        "    guidance_df.loc[day] = [data.bid_capacity, data.ask_capacity * data.upper_target_wall, data.bid_capacity_cushion, data.ask_capacity_cushion * data.upper_target_cushion, data.bid_capacity_target_cushion, data.ask_capacity_target_cushion * data.upper_target_cushion, data.bid_capacity_target, data.ask_capacity_target * data.upper_target_wall, data.ohm_traded, data.reserves_out, data.control_ask, data.control_bid]\n",
        "\n",
        "# Market dynamics variables\n",
        "market_df = pd.DataFrame(columns = ['MarketDemand', 'MarketSupply', 'NetTotal'])\n",
        "for day, data in simulation.items():\n",
        "    market_df.loc[day] = [data.market_demand, data.market_supply, data.total_net]\n",
        "\n",
        "plot_horizon = 365"
      ]
    },
    {
      "cell_type": "code",
      "execution_count": null,
      "metadata": {},
      "outputs": [],
      "source": [
        "# Plot bid/ask/price charts\n",
        "\n",
        "comp1a = go.Figure()\n",
        "comp1a.add_trace(go.Scatter(y=df1['Price'], x=list(df1.index), name='Price'))\n",
        "comp1a.add_trace(go.Scatter(y=df1['RealTarget'], x=list(df1.index), name='Target MA'))\n",
        "comp1a.add_trace(go.Scatter(y=df1['UpperTargetWall'], x=list(df1.index), name='High Wall', line=dict(color='grey', dash='dot')))\n",
        "comp1a.add_trace(go.Scatter(y=df1['LowerTargetWall'], x=list(df1.index), name='Low Wall', line=dict(color='grey', dash='dot')))\n",
        "comp1a.add_trace(go.Scatter(y=df1['UpperTargetCushion'], x=list(df1.index), name='High Cushion', line=dict(color='silver', dash='dot')))\n",
        "comp1a.add_trace(go.Scatter(y=df1['LowerTargetCushion'], x=list(df1.index), name='Low Cushion', line=dict(color='silver', dash='dot')))\n",
        "comp1a.layout.update(xaxis=dict(showgrid=False), yaxis=dict(showgrid=False))\n",
        "comp1a.show()\n",
        "\n",
        "comp2 = guidance_df[['AskCapacity', 'AskCapacityTarget', 'AskCapacityCushion', 'AskCapacityTargetCushion']].plot()\n",
        "comp2.layout.update(xaxis=dict(showgrid=False), yaxis=dict(showgrid=False))\n",
        "for i in range (params.short_cycle, plot_horizon, params.short_cycle):\n",
        "    comp2.add_vline(x=i, line_width=1, line_color=\"white\", layer='below')\n",
        "comp2.show()\n",
        "\n",
        "comp2b = guidance_df[['AskCount']].plot()\n",
        "comp2b.layout.update(xaxis=dict(showgrid=False), yaxis=dict(showgrid=False))\n",
        "for i in range (params.short_cycle, plot_horizon, params.short_cycle):\n",
        "    comp2b.add_vline(x=i, line_width=1, line_color=\"white\", layer='below')\n",
        "    comp2b.add_hline(y=params.min_counter_reinstate, line_width=0.5, line_dash=\"dash\", line_color=\"grey\")\n",
        "#comp2b.show()\n",
        "\n",
        "comp1b = comp1a\n",
        "comp1b.show()\n",
        "\n",
        "comp3 = guidance_df[['BidCapacity', 'BidCapacityTarget', 'BidCapacityCushion', 'BidCapacityTargetCushion']].plot()\n",
        "comp3.layout.update(xaxis=dict(showgrid=False), yaxis=dict(showgrid=False))\n",
        "for i in range (params.short_cycle, plot_horizon, params.short_cycle):\n",
        "    comp3.add_vline(x=i, line_width=1, line_color=\"white\", layer='below')\n",
        "comp3.show()\n",
        "\n",
        "\n",
        "comp3b = guidance_df[['BidCount']].plot()\n",
        "comp3b.layout.update(xaxis=dict(showgrid=False), yaxis=dict(showgrid=False))\n",
        "for i in range (params.short_cycle, plot_horizon, params.short_cycle):\n",
        "    comp2b.add_vline(x=i, line_width=1, line_color=\"white\", layer='below')\n",
        "    comp2b.add_hline(y=params.min_counter_reinstate, line_width=0.5, line_dash=\"dash\", line_color=\"grey\")\n",
        "#comp2b.show()"
      ]
    },
    {
      "cell_type": "code",
      "execution_count": null,
      "metadata": {
        "id": "fb54IdNpZUMt"
      },
      "outputs": [],
      "source": [
        "# Plot batch1\n",
        "\n",
        "for col in df1.columns:\n",
        "    if col in ('NetFlow', 'LiqRatio (Liq/Treasury)', 'LiqFloatingMCRatio', 'FloatingMCTreasuryPremium'):\n",
        "        comp = df1.plot(x=list(df1.index), y=df1[col])\n",
        "        comp.layout.update(xaxis=dict(showgrid=False), yaxis=dict(showgrid=False))\n",
        "        for i in range (params.short_cycle, plot_horizon, params.short_cycle):\n",
        "            comp.add_vline(x=i, line_width=1, line_color=\"white\", layer='below')\n",
        "        if col == 'LiqRatio (Liq/Treasury)':\n",
        "            comp.add_hline(y=params.max_liq_ratio, line_width=1, line_dash=\"dash\", line_color=\"grey\")\n",
        "        if col == 'FloatingMCTreasuryPremium':\n",
        "            comp.add_hline(y=params.min_premium_target, line_width=1, line_dash=\"dash\", line_color=\"grey\")\n",
        "        comp.show()"
      ]
    },
    {
      "cell_type": "code",
      "execution_count": null,
      "metadata": {
        "id": "MPeMGZUDZUMu"
      },
      "outputs": [],
      "source": [
        "# Plot batch2\n",
        "for col in df1.columns:\n",
        "    if col in ('Reserves', 'LiqUSD', 'LiqOHM', 'ReservesIN', 'ReservesOUT', 'Treasury'):\n",
        "        comp = df1.plot(x=list(df1.index), y=df1[col])\n",
        "        comp.layout.update(xaxis=dict(showgrid=False), yaxis=dict(showgrid=False))\n",
        "        for i in range (params.short_cycle, plot_horizon, params.short_cycle):\n",
        "            comp.add_vline(x=i, line_width=1, line_color=\"white\", layer='below')\n",
        "        #comp.show()"
      ]
    },
    {
      "cell_type": "code",
      "execution_count": null,
      "metadata": {
        "id": "iQEVLWKpZUMu"
      },
      "outputs": [],
      "source": [
        "# Plot batch3\n",
        "for col in df1.columns:\n",
        "    if col in ('Supply', 'FloatingSupply', 'CumMintededOHM', 'CumBurntOHM'):\n",
        "        comp = df1.plot(x=list(df1.index), y=df1[col])\n",
        "        comp.layout.update(xaxis=dict(showgrid=False), yaxis=dict(showgrid=False))\n",
        "        for i in range (params.short_cycle, plot_horizon, params.short_cycle):\n",
        "            comp.add_vline(x=i, line_width=1, line_color=\"white\", layer='below')\n",
        "        #comp.show()"
      ]
    },
    {
      "cell_type": "code",
      "execution_count": null,
      "metadata": {},
      "outputs": [],
      "source": [
        "# Plot multivariable charts - Comparison vs without market operations\n",
        "\n",
        "comp = df[['NetFlow', 'LiqUSD', 'Reserves', 'Treasury', 'Type']].plot(facet_col='Type', facet_col_wrap=2)\n",
        "comp.layout.update(xaxis=dict(showgrid=False), yaxis=dict(showgrid=True), xaxis2=dict(showgrid=False), yaxis2=dict(showgrid=True))\n",
        "comp.for_each_annotation(lambda a: a.update(text=a.text.split(\"=\")[-1]))\n",
        "for i in range (params.short_cycle, plot_horizon, params.short_cycle):\n",
        "    comp.add_vline(x=i, line_width=1, line_color=\"white\", layer='below')\n",
        "comp.show()\n",
        "\n",
        "\n",
        "comp1 = df[['MCap','FloatingMCap', 'LiqUSD', 'Type']].plot(facet_col='Type', facet_col_wrap=2)\n",
        "comp1.layout.update(xaxis=dict(showgrid=False), yaxis=dict(showgrid=True), xaxis2=dict(showgrid=False), yaxis2=dict(showgrid=True))\n",
        "comp1.for_each_annotation(lambda a: a.update(text=a.text.split(\"=\")[-1]))\n",
        "for i in range (params.short_cycle, plot_horizon, params.short_cycle):\n",
        "    comp1.add_vline(x=i, line_width=1, line_color=\"white\", layer='below')\n",
        "comp1.show()\n",
        "\n",
        "\n",
        "comp2 = df[['Price','RealTarget', 'LowerTargetWall', 'UpperTargetWall', 'LowerTargetCushion', 'UpperTargetCushion', 'Type']].plot(facet_col='Type', facet_col_wrap=2)\n",
        "comp2.layout.update(xaxis=dict(showgrid=False), yaxis=dict(showgrid=True), xaxis2=dict(showgrid=False), yaxis2=dict(showgrid=True))\n",
        "comp2.for_each_annotation(lambda a: a.update(text=a.text.split(\"=\")[-1]))\n",
        "for i in range (params.short_cycle, plot_horizon, params.short_cycle):\n",
        "    comp2.add_vline(x=i, line_width=1, line_color=\"white\", layer='below')\n",
        "comp2.show()\n",
        "\n",
        "\n",
        "comp3 = df[['Supply','FloatingSupply', 'Type']].plot(facet_col='Type', facet_col_wrap=2)\n",
        "comp3.layout.update(xaxis=dict(showgrid=False), yaxis=dict(showgrid=True), xaxis2=dict(showgrid=False), yaxis2=dict(showgrid=True))\n",
        "comp3.for_each_annotation(lambda a: a.update(text=a.text.split(\"=\")[-1]))\n",
        "for i in range (params.short_cycle, plot_horizon, params.short_cycle):\n",
        "    comp3.add_vline(x=i, line_width=1, line_color=\"white\", layer='below')\n",
        "comp3.show()\n",
        "\n",
        "\n",
        "comp3b = df[['CumBurntOHM', 'CumMintedOHM', 'Type']].plot(facet_col='Type', facet_col_wrap=2)\n",
        "comp3b.layout.update(xaxis=dict(showgrid=False), yaxis=dict(showgrid=True), xaxis2=dict(showgrid=False), yaxis2=dict(showgrid=True))\n",
        "comp3b.for_each_annotation(lambda a: a.update(text=a.text.split(\"=\")[-1]))\n",
        "for i in range (params.short_cycle, plot_horizon, params.short_cycle):\n",
        "    comp3b.add_vline(x=i, line_width=1, line_color=\"white\", layer='below')\n",
        "comp3b.show()\n"
      ]
    },
    {
      "cell_type": "code",
      "execution_count": 10,
      "metadata": {
        "id": "lb73mGk_ZUMw"
      },
      "outputs": [],
      "source": [
        "# Market cycles (Only applicable if netflow_type == cycles --> sin and cos waves)\n",
        "df2 = pd.DataFrame(columns = ['shortSin', 'shortCos', 'longSin', 'longCos']) \n",
        "for i in range (2, 10*params.horizon):\n",
        "    df2.loc[f'day{i}'] = [short_sin(i, params.short_cycle), short_cos(i, params.short_cycle), long_sin(i, params.long_cycle, params.long_sin_offset), long_cos(i, params.long_cycle, params.long_cos_offset, params.supply_amplitude)]\n",
        "\n",
        "#df2.plot(y=df2.columns)"
      ]
    }
  ],
  "metadata": {
    "colab": {
      "name": "model.ipynb",
      "provenance": []
    },
    "kernelspec": {
      "display_name": "Python 3.9.13 64-bit (windows store)",
      "language": "python",
      "name": "python3"
    },
    "language_info": {
      "codemirror_mode": {
        "name": "ipython",
        "version": 3
      },
      "file_extension": ".py",
      "mimetype": "text/x-python",
      "name": "python",
      "nbconvert_exporter": "python",
      "pygments_lexer": "ipython3",
      "version": "3.9.13"
    },
    "orig_nbformat": 4,
    "vscode": {
      "interpreter": {
        "hash": "588171a6f168f076ab53000625f1c4289fdcf63648438a63450035015547f648"
      }
    }
  },
  "nbformat": 4,
  "nbformat_minor": 0
}
