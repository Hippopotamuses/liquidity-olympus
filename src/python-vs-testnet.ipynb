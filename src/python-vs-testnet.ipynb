{
 "cells": [
  {
   "cell_type": "code",
   "execution_count": null,
   "metadata": {},
   "outputs": [],
   "source": [
    "import json\n",
    "import pandas as pd\n",
    "\n",
    "import plotly.express as px\n",
    "import plotly.graph_objects as go\n",
    "pd.options.plotting.backend = \"plotly\""
   ]
  },
  {
   "cell_type": "code",
   "execution_count": null,
   "metadata": {},
   "outputs": [],
   "source": [
    "f = open('../data/sim-vs-testnet/testnet-results-example.json')\n",
    "data = json.load(f)\n",
    "df_test = pd.json_normalize(data)\n",
    "f.close()\n",
    "\n",
    "f = open('../data/sim-vs-testnet/sim-results-example.json')\n",
    "data = json.load(f)\n",
    "df_sim = pd.json_normalize(data)\n",
    "f.close()"
   ]
  },
  {
   "cell_type": "code",
   "execution_count": null,
   "metadata": {},
   "outputs": [],
   "source": [
    "df_test['marketCap'] = df_test['marketCap'].map(lambda x: x/1e18)\n",
    "df_test['price'] = df_test['price'].map(lambda x: round(x/1e18,2))\n",
    "df_test['lowWall'] = df_test['lowWall'].map(lambda x: round(x/1e18,2))\n",
    "df_test['highWall'] = df_test['highWall'].map(lambda x: round(x/1e18,2))\n",
    "df_test['lowCushion'] = df_test['lowCushion'].map(lambda x: round(x/1e18,2))\n",
    "df_test['highCushion'] = df_test['highCushion'].map(lambda x: round(x/1e18,2))\n",
    "df_test['lowCapacity'] = df_test['lowCapacity'].map(lambda x: x/1e18)\n",
    "df_test['highCapacity'] = df_test['highCapacity'].map(lambda x: x/1e9) * df_test['highWall']\n",
    "df_test['reserves'] = df_test['reserves'].map(lambda x: x/1e18)\n",
    "df_test['liqRatio'] = df_test['liqRatio'].map(lambda x: x/10000)\n",
    "df_test['supply'] = df_test['supply'].map(lambda x: x/1e9)\n",
    "df_test['day'] = df_test['epoch'].map(lambda x: x//3)\n",
    "\n",
    "df_test[19:].head()\n",
    "\n",
    "rows = [i for i in range (1, 1095)]\n",
    "keep = [i for i in range (0, 1095, 3)]\n",
    "drop = list(set(rows) - set(keep))\n",
    "\n",
    "df_testnet = df_test.drop(df_test.index[drop])\n",
    "df_testnet = df_testnet.set_index(['day'])\n",
    "df_testnet = df_testnet.drop(columns=['key','epoch','seed'])\n",
    "\n",
    "df_testnet2 = df_testnet[1:]\n",
    "df_testnet2 = df_testnet2.reset_index()\n",
    "df_testnet2['day'] = df_testnet2['day'].map(lambda x: x-1)\n",
    "\n",
    "df_testnet2.head()"
   ]
  },
  {
   "cell_type": "code",
   "execution_count": null,
   "metadata": {},
   "outputs": [],
   "source": [
    "df_sim = df_sim.drop(columns=['seed','day'])\n",
    "df_sim['price'] = df_sim['price'].apply(lambda x: round(float(x),2))\n",
    "df_sim['netFlow'] = df_sim['netFlow'].apply(lambda x: round(float(x),2))\n",
    "df_sim['lowCushion'] = df_sim['lowCushion'].apply(lambda x: round(float(x),2))\n",
    "df_sim['lowWall'] = df_sim['lowWall'].apply(lambda x: round(float(x),2))\n",
    "df_sim['highCushion'] = df_sim['highCushion'].apply(lambda x: round(float(x),2))\n",
    "df_sim['highWall'] = df_sim['highWall'].apply(lambda x: round(float(x),2))\n",
    "df_sim['reservesUSD'] = df_sim['reservesUSD'].apply(lambda x: round(float(x),2))\n",
    "df_sim['liqUSD'] = df_sim['liqUSD'].apply(lambda x: round(float(x),2))\n",
    "df_sim['treasury'] = df_sim['treasury'].apply(lambda x: round(float(x),2))\n",
    "df_sim['liqRatio'] = df_sim['liqUSD'] / df_sim['treasury']\n",
    "df_sim['marketcap'] = df_sim['marketcap'].apply(lambda x: round(float(x),2))\n",
    "df_sim['supply'] = df_sim['supply'].apply(lambda x: round(float(x),2))\n",
    "df_sim['askCapacity'] = df_sim['askCapacity'].apply(lambda x: round(float(x),2)) * df_sim['highWall']\n",
    "df_sim['askCapacityTarget'] = df_sim['askCapacityTarget'].apply(lambda x: round(float(x),2)) * df_sim['highWall']\n",
    "df_sim['bidCapacity'] = df_sim['bidCapacity'].apply(lambda x: round(float(x),2))\n",
    "df_sim['bidCapacityTarget'] = df_sim['bidCapacityTarget'].apply(lambda x: round(float(x),2))\n",
    "df_sims = df_sim[['marketcap', 'price', 'reservesUSD', 'netFlow', 'lowWall', 'lowCushion', 'highCushion', 'highWall', 'askCapacity', 'askCapacityTarget', 'bidCapacity', 'bidCapacityTarget']]\n",
    "df_sims.head()"
   ]
  },
  {
   "cell_type": "code",
   "execution_count": null,
   "metadata": {},
   "outputs": [],
   "source": [
    "fig = go.Figure()\n",
    "fig.add_trace(go.Scatter(x=df_testnet2['day'], y=df_sims['price'], name='price (sims)'))\n",
    "fig.add_trace(go.Scatter(x=df_testnet2['day'], y=df_sims['lowWall'], name='lowWall (sims)', line=dict(color='grey', dash='dot')))\n",
    "fig.add_trace(go.Scatter(x=df_testnet2['day'], y=df_sims['highWall'], name='highWall (sims)', line=dict(color='grey', dash='dot')))\n",
    "fig.add_trace(go.Scatter(x=df_testnet2['day'], y=df_sims['lowCushion'], name='lowCushion (sims)', line=dict(color='grey', dash='dot')))\n",
    "fig.add_trace(go.Scatter(x=df_testnet2['day'], y=df_sims['highCushion'], name='highCushion (sims)', line=dict(color='grey', dash='dot')))\n",
    "\n",
    "fig.add_trace(go.Scatter(x=df_testnet2['day'], y=df_testnet2['price'], name='price (testnet)'))\n",
    "fig.add_trace(go.Scatter(x=df_testnet2['day'], y=df_testnet2['lowWall'], name='lowWall (testnet)', line=dict(color='silver', dash='dot')))\n",
    "fig.add_trace(go.Scatter(x=df_testnet2['day'], y=df_testnet2['highWall'], name='highWall (testnet)', line=dict(color='silver', dash='dot')))\n",
    "fig.add_trace(go.Scatter(x=df_testnet2['day'], y=df_testnet2['lowCushion'], name='lowCushion (testnet)', line=dict(color='silver', dash='dot')))\n",
    "fig.add_trace(go.Scatter(x=df_testnet2['day'], y=df_testnet2['highCushion'], name='highCushion (testnet)', line=dict(color='silver', dash='dot')))\n",
    "\n",
    "fig.show()"
   ]
  },
  {
   "cell_type": "code",
   "execution_count": null,
   "metadata": {},
   "outputs": [],
   "source": [
    "fig2 = go.Figure()\n",
    "\n",
    "fig2.add_trace(go.Scatter(x=df_testnet2['day'], y=df_sims['askCapacity'], name='askCapacity (sims)', line=dict(color='#009aff')))\n",
    "fig2.add_trace(go.Scatter(x=df_testnet2['day'], y=df_sims['askCapacityTarget'], name='askCapacityTarget (sims)', line=dict(color='grey', dash='dot')))\n",
    "\n",
    "fig2.add_trace(go.Scatter(x=df_testnet2['day'], y=df_testnet2['highCapacity'], name='askCapacity (testnet)', line=dict(color='#ff334e')))\n",
    "\n",
    "fig2.show()"
   ]
  },
  {
   "cell_type": "code",
   "execution_count": null,
   "metadata": {},
   "outputs": [],
   "source": [
    "fig3 = go.Figure()\n",
    "\n",
    "fig3.add_trace(go.Scatter(x=df_testnet2['day'], y=df_sims['bidCapacity'], name='bidCapacity (sims)', line=dict(color='#565bff')))\n",
    "fig3.add_trace(go.Scatter(x=df_testnet2['day'], y=df_sims['bidCapacityTarget'], name='bidCapacityTarget (sims)', line=dict(color='grey', dash='dot')))\n",
    "\n",
    "fig3.add_trace(go.Scatter(x=df_testnet2['day'], y=df_testnet2['lowCapacity'], name='bidCapacity (testnet)', line=dict(color='#ff59a2')))\n",
    "\n",
    "fig3.show()"
   ]
  },
  {
   "cell_type": "code",
   "execution_count": null,
   "metadata": {},
   "outputs": [],
   "source": [
    "fig4 = pd.DataFrame()\n",
    "fig4['liqRatio (sims)'] = df_sim['liqRatio']\n",
    "fig4['sliqRatio (testnet)'] = df_testnet2['liqRatio'][:-1]\n",
    "fig4.plot()"
   ]
  },
  {
   "cell_type": "code",
   "execution_count": null,
   "metadata": {},
   "outputs": [],
   "source": [
    "fig5 = pd.DataFrame()\n",
    "fig5['supply (sims)'] = df_sim['supply']\n",
    "fig5['supply (testnet)'] = df_testnet2['supply'][:-1]\n",
    "fig5.plot()"
   ]
  },
  {
   "cell_type": "code",
   "execution_count": null,
   "metadata": {},
   "outputs": [],
   "source": []
  }
 ],
 "metadata": {
  "kernelspec": {
   "display_name": "Python 3.9.13 64-bit (microsoft store)",
   "language": "python",
   "name": "python3"
  },
  "language_info": {
   "codemirror_mode": {
    "name": "ipython",
    "version": 3
   },
   "file_extension": ".py",
   "mimetype": "text/x-python",
   "name": "python",
   "nbconvert_exporter": "python",
   "pygments_lexer": "ipython3",
   "version": "3.9.13"
  },
  "orig_nbformat": 4,
  "vscode": {
   "interpreter": {
    "hash": "588171a6f168f076ab53000625f1c4289fdcf63648438a63450035015547f648"
   }
  }
 },
 "nbformat": 4,
 "nbformat_minor": 2
}
