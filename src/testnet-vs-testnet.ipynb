{
 "cells": [
  {
   "cell_type": "code",
   "execution_count": null,
   "metadata": {},
   "outputs": [],
   "source": [
    "import json\n",
    "import pandas as pd\n",
    "\n",
    "from plotly.subplots import make_subplots\n",
    "import plotly.express as px\n",
    "import plotly.graph_objects as go\n",
    "pd.options.plotting.backend = \"plotly\""
   ]
  },
  {
   "cell_type": "code",
   "execution_count": null,
   "metadata": {},
   "outputs": [],
   "source": [
    "f = open('../data/sim-vs-testnet/testnet-results-old.json')\n",
    "data = json.load(f)\n",
    "df_test1 = pd.json_normalize(data)\n",
    "f.close()\n",
    "\n",
    "f = open('../data/sim-vs-testnet/testnet-results-new.json')\n",
    "data = json.load(f)\n",
    "df_test2 = pd.json_normalize(data)\n",
    "f.close()"
   ]
  },
  {
   "cell_type": "code",
   "execution_count": null,
   "metadata": {},
   "outputs": [],
   "source": [
    "df_test = df_test1\n",
    "df_test['marketCap'] = df_test['marketCap'].map(lambda x: x/1e18)\n",
    "df_test['price'] = df_test['price'].map(lambda x: round(x/1e18,2))\n",
    "df_test['lowWall'] = df_test['lowWall'].map(lambda x: round(x/1e18,2))\n",
    "df_test['highWall'] = df_test['highWall'].map(lambda x: round(x/1e18,2))\n",
    "df_test['lowCushion'] = df_test['lowCushion'].map(lambda x: round(x/1e18,2))\n",
    "df_test['highCushion'] = df_test['highCushion'].map(lambda x: round(x/1e18,2))\n",
    "df_test['lowCapacity'] = df_test['lowCapacity'].map(lambda x: x/1e18)\n",
    "df_test['highCapacity'] = df_test['highCapacity'].map(lambda x: x/1e9) * df_test['highWall']\n",
    "df_test['reserves'] = df_test['reserves'].map(lambda x: x/1e18)\n",
    "df_test['liqRatio'] = df_test['liqRatio'].map(lambda x: x/100)\n",
    "df_test['supply'] = df_test['supply'].map(lambda x: x/1e9)\n",
    "df_test['day'] = df_test['epoch'].map(lambda x: x//3)\n",
    "\n",
    "rows = [i for i in range (1, 1095)]\n",
    "keep = [i for i in range (0, 1095, 3)]\n",
    "drop = list(set(rows) - set(keep))\n",
    "\n",
    "df_testnet1 = df_test.drop(df_test.index[drop])\n",
    "df_testnet1 = df_testnet1.set_index(['day'])\n",
    "df_testnet1 = df_testnet1.drop(columns=['key','epoch','seed'])\n",
    "\n",
    "df_testnet1 = df_testnet1[2:]\n",
    "df_testnet1 = df_testnet1.reset_index()\n",
    "df_testnet1['day'] = df_testnet1['day'].map(lambda x: x-2)"
   ]
  },
  {
   "cell_type": "code",
   "execution_count": null,
   "metadata": {},
   "outputs": [],
   "source": [
    "df_test = df_test2\n",
    "df_test['marketCap'] = df_test['marketCap'].map(lambda x: x/1e18)\n",
    "df_test['price'] = df_test['price'].map(lambda x: round(x/1e18,2))\n",
    "df_test['lowWall'] = df_test['lowWall'].map(lambda x: round(x/1e18,2))\n",
    "df_test['highWall'] = df_test['highWall'].map(lambda x: round(x/1e18,2))\n",
    "df_test['lowCushion'] = df_test['lowCushion'].map(lambda x: round(x/1e18,2))\n",
    "df_test['highCushion'] = df_test['highCushion'].map(lambda x: round(x/1e18,2))\n",
    "df_test['lowCapacity'] = df_test['lowCapacity'].map(lambda x: x/1e18)\n",
    "df_test['highCapacity'] = df_test['highCapacity'].map(lambda x: x/1e9) * df_test['highWall']\n",
    "df_test['reserves'] = df_test['reserves'].map(lambda x: x/1e18)\n",
    "df_test['liqRatio'] = df_test['liqRatio'].map(lambda x: x/100)\n",
    "df_test['supply'] = df_test['supply'].map(lambda x: x/1e9)\n",
    "df_test['day'] = df_test['epoch'].map(lambda x: x//3)\n",
    "\n",
    "rows = [i for i in range (1, 1095)]\n",
    "keep = [i for i in range (0, 1095, 3)]\n",
    "drop = list(set(rows) - set(keep))\n",
    "\n",
    "df_testnet2 = df_test.drop(df_test.index[drop])\n",
    "df_testnet2 = df_testnet2.set_index(['day'])\n",
    "df_testnet2 = df_testnet2.drop(columns=['key','epoch','seed'])\n",
    "\n",
    "df_testnet2 = df_testnet2[2:]\n",
    "df_testnet2 = df_testnet2.reset_index()\n",
    "df_testnet2['day'] = df_testnet2['day'].map(lambda x: x-2)"
   ]
  },
  {
   "cell_type": "code",
   "execution_count": null,
   "metadata": {},
   "outputs": [],
   "source": [
    "fig = go.Figure()\n",
    "fig.add_trace(go.Scatter(x=df_testnet1['day'], y=df_testnet1['price'], name='price (old method)', line=dict(color='#ff334e')))\n",
    "fig.add_trace(go.Scatter(x=df_testnet1['day'], y=df_testnet1['lowWall'], name='lowWall (old method)', line=dict(color='grey', dash='dot')))\n",
    "fig.add_trace(go.Scatter(x=df_testnet1['day'], y=df_testnet1['highWall'], name='highWall (old method)', line=dict(color='grey', dash='dot')))\n",
    "fig.add_trace(go.Scatter(x=df_testnet1['day'], y=df_testnet1['lowCushion'], name='lowCushion (old method)', line=dict(color='grey', dash='dot')))\n",
    "fig.add_trace(go.Scatter(x=df_testnet1['day'], y=df_testnet1['highCushion'], name='highCushion (old method)', line=dict(color='grey', dash='dot')))\n",
    "\n",
    "fig.add_trace(go.Scatter(x=df_testnet2['day'], y=df_testnet2['price'], name='price (new method)', line=dict(color='#009aff')))\n",
    "fig.add_trace(go.Scatter(x=df_testnet2['day'], y=df_testnet2['lowWall'], name='lowWall (new method)', line=dict(color='silver', dash='dot')))\n",
    "fig.add_trace(go.Scatter(x=df_testnet2['day'], y=df_testnet2['highWall'], name='highWall (new method)', line=dict(color='silver', dash='dot')))\n",
    "fig.add_trace(go.Scatter(x=df_testnet2['day'], y=df_testnet2['lowCushion'], name='lowCushion (new method)', line=dict(color='silver', dash='dot')))\n",
    "fig.add_trace(go.Scatter(x=df_testnet2['day'], y=df_testnet2['highCushion'], name='highCushion (new method)', line=dict(color='silver', dash='dot')))\n",
    "\n",
    "fig.show()"
   ]
  },
  {
   "cell_type": "code",
   "execution_count": null,
   "metadata": {},
   "outputs": [],
   "source": [
    "fig2 = go.Figure()\n",
    "\n",
    "fig2.add_trace(go.Scatter(x=df_testnet2['day'], y=df_testnet1['highCapacity'], name='askCapacity (old method)', line=dict(color='#ff334e')))\n",
    "\n",
    "fig2.add_trace(go.Scatter(x=df_testnet2['day'], y=df_testnet2['highCapacity'], name='askCapacity (new method)', line=dict(color='#009aff')))\n",
    "\n",
    "fig2.show()"
   ]
  },
  {
   "cell_type": "code",
   "execution_count": null,
   "metadata": {},
   "outputs": [],
   "source": [
    "fig3 = go.Figure()\n",
    "\n",
    "fig3.add_trace(go.Scatter(x=df_testnet1['day'], y=df_testnet1['lowCapacity'], name='bidCapacity (old method)', line=dict(color='#ff59a2')))\n",
    "\n",
    "fig3.add_trace(go.Scatter(x=df_testnet2['day'], y=df_testnet2['lowCapacity'], name='bidCapacity (new method)', line=dict(color='#565bff')))\n",
    "\n",
    "fig3.show()"
   ]
  }
 ],
 "metadata": {
  "kernelspec": {
   "display_name": "Python 3.9.13 64-bit (microsoft store)",
   "language": "python",
   "name": "python3"
  },
  "language_info": {
   "codemirror_mode": {
    "name": "ipython",
    "version": 3
   },
   "file_extension": ".py",
   "mimetype": "text/x-python",
   "name": "python",
   "nbconvert_exporter": "python",
   "pygments_lexer": "ipython3",
   "version": "3.9.13"
  },
  "orig_nbformat": 4,
  "vscode": {
   "interpreter": {
    "hash": "588171a6f168f076ab53000625f1c4289fdcf63648438a63450035015547f648"
   }
  }
 },
 "nbformat": 4,
 "nbformat_minor": 2
}
