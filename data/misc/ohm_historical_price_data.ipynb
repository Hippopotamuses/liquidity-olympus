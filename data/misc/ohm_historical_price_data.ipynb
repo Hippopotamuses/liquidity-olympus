{
 "cells": [
  {
   "cell_type": "code",
   "execution_count": 12,
   "metadata": {},
   "outputs": [],
   "source": [
    "import os\n",
    "import json\n",
    "import requests\n",
    "\n",
    "from googleapiclient import discovery\n",
    "from google.oauth2 import service_account\n"
   ]
  },
  {
   "cell_type": "code",
   "execution_count": 28,
   "metadata": {},
   "outputs": [],
   "source": [
    "def fetch_cg_info(date):\n",
    "    response = requests.get(f'https://api.coingecko.com/api/v3/coins/olympus/history?date={date}&localization=false')\n",
    "    r = response.json()\n",
    "    price = r['market_data']['current_price']['usd']\n",
    "    mcap = r['market_data']['market_cap']['usd']\n",
    "    return [price, int(mcap/price)]\n",
    "\n",
    "\n",
    "def fetch_value(spreadsheet_id, sheet, cell_range):\n",
    "    result = sheet.values().get(spreadsheetId=spreadsheet_id, range=cell_range).execute()\n",
    "    return result.get('values',[])[0][0]"
   ]
  },
  {
   "cell_type": "code",
   "execution_count": 32,
   "metadata": {},
   "outputs": [],
   "source": [
    "scopes = [\"https://www.googleapis.com/auth/spreadsheets\"]\n",
    "secret_file = os.path.join(os.getcwd(), 'client_secret.json')\n",
    "spreadsheet_id = \"1cTYr0Kimk2O29t136BaKaePqqMEsb4xTojdTsMBZf3A\"\n",
    "\n",
    "try:    \n",
    "    credentials = service_account.Credentials.from_service_account_file(secret_file, scopes=scopes)\n",
    "    service = discovery.build('sheets', 'v4', credentials=credentials)\n",
    "    sheet = service.spreadsheets()\n",
    "\n",
    "    for row in range (2, 126):\n",
    "        date = fetch_value(spreadsheet_id, sheet, cell_range=f'OHM!C{row}:C{row}')\n",
    "        values = fetch_cg_info(date)\n",
    "        info = {'values' : [values]}\n",
    "        sheet.values().update(spreadsheetId=spreadsheet_id, body=info, range=f'OHM!D{row}:E{row}', valueInputOption='USER_ENTERED').execute()\n",
    "\n",
    "except OSError as e:\n",
    "    print (e)"
   ]
  }
 ],
 "metadata": {
  "interpreter": {
   "hash": "a72b40c70d7a73f2be7a5bdf63aca9b9239f053821967849109ae8d4f480f962"
  },
  "kernelspec": {
   "display_name": "Python 3.9.10 64-bit (windows store)",
   "language": "python",
   "name": "python3"
  },
  "language_info": {
   "codemirror_mode": {
    "name": "ipython",
    "version": 3
   },
   "file_extension": ".py",
   "mimetype": "text/x-python",
   "name": "python",
   "nbconvert_exporter": "python",
   "pygments_lexer": "ipython3",
   "version": "3.9.5"
  },
  "orig_nbformat": 4
 },
 "nbformat": 4,
 "nbformat_minor": 2
}
